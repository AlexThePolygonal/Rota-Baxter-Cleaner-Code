{
 "cells": [
  {
   "cell_type": "code",
   "execution_count": 2,
   "metadata": {},
   "outputs": [
    {
     "name": "stdout",
     "output_type": "stream",
     "text": [
      "number of classes is 6\n",
      "[0 0 0 0]\n",
      "[0 0 0 a]\n",
      "[0 0 0 0]\n",
      "[0 b 0 c]\n",
      "Quotient of Multivariate Polynomial Ring in a, b, c over Rational Field by the ideal (a*b + c^2)\n",
      "[0 0 0 0]\n",
      "[a 0 0 0]\n",
      "[0 0 0 0]\n",
      "[b c 0 0]\n",
      "Quotient of Multivariate Polynomial Ring in a, b, c over Rational Field by the ideal (-b^2 + a*c)\n",
      "[0 0 0 0]\n",
      "[0 0 0 0]\n",
      "[0 0 0 a]\n",
      "[0 0 b c]\n",
      "Quotient of Multivariate Polynomial Ring in a, b, c over Rational Field by the ideal (a*b + c^2)\n",
      "[0 0 0 0]\n",
      "[0 0 0 0]\n",
      "[a 0 0 0]\n",
      "[b 0 c 0]\n",
      "Quotient of Multivariate Polynomial Ring in a, b, c over Rational Field by the ideal (-b^2 + a*c)\n",
      "[0 0 0 0]\n",
      "[0 0 a b]\n",
      "[c d 0 0]\n",
      "[e f g h]\n",
      "Quotient of Multivariate Polynomial Ring in a, b, c, d, e, f, g, h over Rational Field by the ideal (-f*g + e*h, -f^2 + d*h, -e*f + d*g, -e*f + c*h, -e^2 + c*g, -d*e + c*f, b*f + h^2, b*e + g*h, b*d + f*h, b*c + f*g, -b*g + a*h, a*f + g*h, a*e + g^2, a*d + f*g, a*c + e*g)\n",
      "[0 0 0 0]\n",
      "[a 0 b 0]\n",
      "[0 c 0 d]\n",
      "[e f g h]\n",
      "Quotient of Multivariate Polynomial Ring in a, b, c, d, e, f, g, h over Rational Field by the ideal (-f*g + e*h, d*g + h^2, d*e + f*h, -d*f + c*h, c*g + f*h, c*e + f^2, -g^2 + b*h, b*f - e*g, b*d + g*h, b*c + f*g, -e*g + a*h, -b*e + a*g, -e^2 + a*f, a*d + f*g, a*c + e*f)\n"
     ]
    }
   ],
   "source": [
    "from rblib import *\n",
    "\n",
    "\n",
    "classifier = MnClassifier(2, sg.SR(sg.Integer(0)))\n",
    "# classifier = MnClassifier(2, sg.SR.var('w'))\n",
    "classifier.classify()\n",
    "\n",
    "print(f\"number of classes is {len(classifier.QQ_comps)}\")\n",
    "\n",
    "for comp in classifier.QQ_comps:\n",
    "    print(comp)"
   ]
  }
 ],
 "metadata": {
  "kernelspec": {
   "display_name": "SageMath 9.5",
   "language": "sage",
   "name": "sagemath"
  },
  "language_info": {
   "codemirror_mode": {
    "name": "ipython",
    "version": 3
   },
   "file_extension": ".py",
   "mimetype": "text/x-python",
   "name": "python",
   "nbconvert_exporter": "python",
   "pygments_lexer": "ipython3",
   "version": "3.10.12"
  },
  "orig_nbformat": 4
 },
 "nbformat": 4,
 "nbformat_minor": 2
}
